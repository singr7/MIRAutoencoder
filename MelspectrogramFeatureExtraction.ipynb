{
  "nbformat": 4,
  "nbformat_minor": 0,
  "metadata": {
    "colab": {
      "name": "MelspectrogramFeatureExtraction",
      "provenance": [],
      "collapsed_sections": [],
      "include_colab_link": true
    },
    "kernelspec": {
      "name": "python3",
      "display_name": "Python 3"
    },
    "accelerator": "GPU"
  },
  "cells": [
    {
      "cell_type": "markdown",
      "metadata": {
        "id": "view-in-github",
        "colab_type": "text"
      },
      "source": [
        "<a href=\"https://colab.research.google.com/github/singr7/MIRAutoencoder/blob/master/MelspectrogramFeatureExtraction.ipynb\" target=\"_parent\"><img src=\"https://colab.research.google.com/assets/colab-badge.svg\" alt=\"Open In Colab\"/></a>"
      ]
    },
    {
      "cell_type": "markdown",
      "metadata": {
        "id": "jPxEp70LS3yy"
      },
      "source": [
        "# Music Feature extraction using librosa\n",
        "\n",
        "\n"
      ]
    },
    {
      "cell_type": "code",
      "metadata": {
        "id": "e5LBVohGTJsD",
        "colab": {
          "base_uri": "https://localhost:8080/"
        },
        "outputId": "a4e04cc1-28f0-4023-cae0-799da0085416"
      },
      "source": [
        "from google.colab import drive\n",
        "drive.mount('/content/drive', force_remount=True)"
      ],
      "execution_count": null,
      "outputs": [
        {
          "output_type": "stream",
          "text": [
            "Mounted at /content/drive\n"
          ],
          "name": "stdout"
        }
      ]
    },
    {
      "cell_type": "code",
      "metadata": {
        "id": "wN57cZLd0BLH"
      },
      "source": [
        "import tempfile\n",
        "from google.colab import files\n",
        "import os"
      ],
      "execution_count": null,
      "outputs": []
    },
    {
      "cell_type": "code",
      "metadata": {
        "id": "Y6ZKjcjzKpqG"
      },
      "source": [
        "print( os.getcwd() )"
      ],
      "execution_count": null,
      "outputs": []
    },
    {
      "cell_type": "code",
      "metadata": {
        "id": "_9qPDsT4rIN4"
      },
      "source": [
        "os.chdir(\"/content/drive/My Drive\")"
      ],
      "execution_count": null,
      "outputs": []
    },
    {
      "cell_type": "code",
      "metadata": {
        "id": "6AR0M37yyEVa"
      },
      "source": [
        "removable_songs = ['000704.mp3', '000705.mp3', '000706.mp3', '000707.mp3', '000708.mp3', '000709.mp3', '003775.mp3', '003776.mp3', '003777.mp3', '003778.mp3', '003779.mp3', '004070.mp3', '004071.mp3', '004072.mp3', '004074.mp3', '004075.mp3', '004076.mp3', '004077.mp3', '004078.mp3', '004079.mp3', '004080.mp3', '011671.mp3', '011672.mp3', '011674.mp3', '011675.mp3', '011677.mp3', '011679.mp3', '011681.mp3', '011682.mp3', '018031.mp3', '018032.mp3', '018034.mp3', '019459.mp3', '024362.mp3', '024364.mp3', '024365.mp3', '024366.mp3', '024367.mp3', '024368.mp3', '024369.mp3', '024370.mp3', '024371.mp3', '116753.mp3']+['004232.mp3', '004234.mp3', '004235.mp3', '004236.mp3', '004239.mp3', '006330.mp3', '006354.mp3', '006367.mp3', '006379.mp3', '006389.mp3', '016744.mp3', '016745.mp3', '016747.mp3', '017631.mp3', '017632.mp3', '017634.mp3', '017635.mp3', '017636.mp3', '017637.mp3', '018037.mp3', '018038.mp3', '018039.mp3', '019674.mp3', '042373.mp3']+['004232.mp3', '004234.mp3', '004235.mp3', '004236.mp3', '004239.mp3', '004846.mp3', '004848.mp3', '004849.mp3', '006342.mp3', '006360.mp3', '006366.mp3', '006372.mp3', '006380.mp3', '006385.mp3', '006459.mp3', '006469.mp3', '022315.mp3', '042373.mp3', '048463.mp3', '048493.mp3', '063803.mp3', '064593.mp3']+['013537.mp3', '013538.mp3', '013539.mp3', '013540.mp3', '014601.mp3', '014602.mp3', '014604.mp3', '135373.mp3']+['015487.mp3', '015488.mp3', '017631.mp3', '017632.mp3', '017634.mp3', '017635.mp3', '017636.mp3', '017637.mp3']+['015487.mp3', '015488.mp3']+['015880.mp3', '016334.mp3', '017605.mp3', '017606.mp3', '017607.mp3', '017608.mp3', '017609.mp3', '017610.mp3', '017611.mp3']"
      ],
      "execution_count": null,
      "outputs": []
    },
    {
      "cell_type": "code",
      "metadata": {
        "id": "pW_KgMFAlkdK",
        "colab": {
          "base_uri": "https://localhost:8080/"
        },
        "outputId": "d646371d-f303-477a-8d7d-9225f3101a4e"
      },
      "source": [
        "print(len(removable_songs))"
      ],
      "execution_count": null,
      "outputs": [
        {
          "output_type": "stream",
          "text": [
            "116\n"
          ],
          "name": "stdout"
        }
      ]
    },
    {
      "cell_type": "code",
      "metadata": {
        "id": "tP3qbJbS6BNt"
      },
      "source": [
        "import librosa\n",
        "import librosa.display\n",
        "import scipy.ndimage\n",
        "import numpy as np\n",
        "from pylab import plot, show, figure, imshow\n",
        "%matplotlib inline\n",
        "import matplotlib.pyplot as plt"
      ],
      "execution_count": null,
      "outputs": []
    },
    {
      "cell_type": "code",
      "metadata": {
        "id": "yiODWPvX6Gbt"
      },
      "source": [
        "songs = []\n",
        "for root, dirs, files in os.walk(\"./Western-Dataset\"):\n",
        "    for file in files:\n",
        "        if file.endswith(\".mp3\"):\n",
        "          if file in removable_songs:\n",
        "            #print(file)\n",
        "            pass\n",
        "          else:\n",
        "            songs.append(os.path.join(root, file))"
      ],
      "execution_count": null,
      "outputs": []
    },
    {
      "cell_type": "code",
      "metadata": {
        "id": "kZ3dKQmX5TJi",
        "colab": {
          "base_uri": "https://localhost:8080/"
        },
        "outputId": "661a0a5d-2a97-4918-8ce9-fc6b49ad4d93"
      },
      "source": [
        "print(len(songs))"
      ],
      "execution_count": null,
      "outputs": [
        {
          "output_type": "stream",
          "text": [
            "7898\n"
          ],
          "name": "stdout"
        }
      ]
    },
    {
      "cell_type": "code",
      "metadata": {
        "id": "pRz9Pj6R8cju",
        "colab": {
          "base_uri": "https://localhost:8080/"
        },
        "outputId": "d5df3ce9-2036-4d2f-ba64-1b307f7124d7"
      },
      "source": [
        "print(songs[10])\n",
        "print(songs[10].split('/')[-1].replace('.mp3',''))"
      ],
      "execution_count": null,
      "outputs": [
        {
          "output_type": "stream",
          "text": [
            "./Western-Dataset/003/003533.mp3\n",
            "003533\n"
          ],
          "name": "stdout"
        }
      ]
    },
    {
      "cell_type": "code",
      "metadata": {
        "id": "2cZc_3Wu8ifZ",
        "colab": {
          "base_uri": "https://localhost:8080/"
        },
        "outputId": "76ced2c8-e571-4721-b55a-babe1d633825"
      },
      "source": [
        "y,sr = librosa.load(songs[10], duration = 20, sr=16000)\n",
        "melspectrogram = librosa.feature.melspectrogram(y, sr=16000, n_fft=2048, hop_length=800, n_mels=48)\n",
        "# the above needs some more thoughts.. Ideally, downsample, \n",
        "#use the hop_size of 160 samples, n_mels=128 ( will mean high memory needs for big data), \n",
        "#n_fft >= # samples in a single frame, Since windowsize=100 ms = 100*16000/1000 = 1600, n_fft= 2048( nearest power of 2) because FFT algo works faster that way. samples padded with zeros\n",
        "log_melspectrogram = librosa.power_to_db(melspectrogram, ref=np.max)\n",
        "log_melspectrogram_new = log_melspectrogram[:, :-1].astype('float32')\n",
        "# need to understand why to do the above above...\n",
        "print(log_melspectrogram.shape,sr)\n",
        "print(log_melspectrogram_new.shape)\n",
        "\n",
        "np.save(\"./MusicResearchColabNB/Test1.npy\", log_melspectrogram_new)\n"
      ],
      "execution_count": null,
      "outputs": [
        {
          "output_type": "stream",
          "text": [
            "(26, 401) 16000\n",
            "(26, 400)\n"
          ],
          "name": "stdout"
        }
      ]
    },
    {
      "cell_type": "code",
      "metadata": {
        "id": "CAHTwGjA2jeg"
      },
      "source": [
        "X_logmel_W=[]\n",
        "l_count=0\n",
        "# Some corrupt songs need to be removed. so some of this can fail.. For example song at 7178 index etc...\n",
        "# also its better to revise the hop_length, n_fft , n_mels to more optimal and thoughtful numbers\n",
        "\n",
        "for song in songs[7179:]:\n",
        "  l_count=l_count+1\n",
        "  print(l_count, song.split('/')[-1])\n",
        "  y,sr = librosa.load(song, duration = 20, sr=16000)\n",
        "  melspectrogram = librosa.feature.melspectrogram(y, sr=16000, n_fft=2048, hop_length=800, n_mels=48)\n",
        "  log_melspectrogram = librosa.power_to_db(melspectrogram, ref=np.max)\n",
        "  log_melspectrogram_new = log_melspectrogram[:, :-1].astype('float32')\n",
        "  log_melspectrogram_arr = np.array(log_melspectrogram_new)\n",
        "  np_file_nm = song.split('/')[-1].replace('.mp3','.npy')\n",
        "  X_logmel_W.append(log_melspectrogram_new)\n",
        "  np.save(\"./MusicResearchColabNB/Western_numpy/\"+np_file_nm,log_melspectrogram_arr )\n",
        "  # need to understand why to do the above above...\n",
        "  #print(log_melspectrogram.shape,sr)\n",
        "  #print(l_count, song.split('/')[-1].replace('.mp3',''),log_melspectrogram_new.shape)\n",
        "\n",
        "X_logmel_W = np.array(X_logmel_W) \n",
        "print(X_logmel_W[0].shape)\n",
        "np.save(\"./MusicResearchColabNB/Western_dataset.npy\", X_logmel_W)"
      ],
      "execution_count": null,
      "outputs": []
    },
    {
      "cell_type": "code",
      "metadata": {
        "id": "BBC61cnjrBZw",
        "colab": {
          "base_uri": "https://localhost:8080/"
        },
        "outputId": "03a56cb5-6b2a-49c1-a794-48c120219163"
      },
      "source": [
        "# read a npy and extract its first input...\n",
        "import numpy as np\n",
        "y_sample = np.load('./MusicResearchColabNB/Western_numpy/154414.npy')\n",
        "y_sample.shape"
      ],
      "execution_count": null,
      "outputs": [
        {
          "output_type": "execute_result",
          "data": {
            "text/plain": [
              "(26, 400)"
            ]
          },
          "metadata": {
            "tags": []
          },
          "execution_count": 16
        }
      ]
    },
    {
      "cell_type": "code",
      "metadata": {
        "id": "6qivHVi3AIlu"
      },
      "source": [
        "# To plot a single loaded mp3 file as is\n",
        "#song =??\n",
        "#y_sample,sr = librosa.load(song, duration = 20, sr=16000)\n",
        "#plt.figure(figsize=(15, 5))\n",
        "#librosa.display.waveplot(y_sample, sr, alpha=0.8)"
      ],
      "execution_count": null,
      "outputs": []
    },
    {
      "cell_type": "code",
      "metadata": {
        "id": "-LtZbPx3wnNF"
      },
      "source": [
        "# This block is when you just want to plot the log_melspectrogram for a single file\n",
        "#\n",
        "#single_log_melspectrogram =??\n",
        "#plt.figure(figsize=(25,10))\n",
        "#librosa.display.specshow(single_log_melspectrogram\n",
        "#                         , x_axis ='time'\n",
        "#                         , y_axis = 'mel'\n",
        "#                         , sr = sr)\n",
        "#plt.colorbar(format=\"%+2.f\")\n",
        "#plt.show()"
      ],
      "execution_count": null,
      "outputs": []
    },
    {
      "cell_type": "code",
      "metadata": {
        "id": "6LbpDMqj8wPK"
      },
      "source": [
        "#To playback the sample \n",
        "#import IPython\n",
        "#IPython.display.Audio(y_sample, rate=16000)"
      ],
      "execution_count": null,
      "outputs": []
    },
    {
      "cell_type": "code",
      "metadata": {
        "colab": {
          "base_uri": "https://localhost:8080/"
        },
        "id": "FKYPkoq3ibEo",
        "outputId": "d71df077-4d99-495b-9844-191772a93e5e"
      },
      "source": [
        "src, sr = librosa.load('./MusicResearchColabNB/smalldataset/056651.mp3', duration=20, sr=16000)"
      ],
      "execution_count": null,
      "outputs": [
        {
          "output_type": "stream",
          "text": [
            "/usr/local/lib/python3.7/dist-packages/librosa/core/audio.py:162: UserWarning: PySoundFile failed. Trying audioread instead.\n",
            "  warnings.warn(\"PySoundFile failed. Trying audioread instead.\")\n"
          ],
          "name": "stderr"
        }
      ]
    },
    {
      "cell_type": "code",
      "metadata": {
        "colab": {
          "base_uri": "https://localhost:8080/"
        },
        "id": "VSikSTVHlrvs",
        "outputId": "30511d04-fb65-4337-aa9d-2707ed2396a5"
      },
      "source": [
        "src.shape"
      ],
      "execution_count": null,
      "outputs": [
        {
          "output_type": "execute_result",
          "data": {
            "text/plain": [
              "(320000,)"
            ]
          },
          "metadata": {
            "tags": []
          },
          "execution_count": 27
        }
      ]
    },
    {
      "cell_type": "code",
      "metadata": {
        "id": "tn-RVN_glxd2"
      },
      "source": [
        ""
      ],
      "execution_count": null,
      "outputs": []
    }
  ]
}