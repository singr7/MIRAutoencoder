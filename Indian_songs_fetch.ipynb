{
  "nbformat": 4,
  "nbformat_minor": 0,
  "metadata": {
    "colab": {
      "name": "Indian_songs_fetch.ipynb",
      "provenance": [],
      "collapsed_sections": [],
      "authorship_tag": "ABX9TyOg4MA7qh5/wdJvaceI9Jcn",
      "include_colab_link": true
    },
    "kernelspec": {
      "name": "python3",
      "display_name": "Python 3"
    }
  },
  "cells": [
    {
      "cell_type": "markdown",
      "metadata": {
        "id": "view-in-github",
        "colab_type": "text"
      },
      "source": [
        "<a href=\"https://colab.research.google.com/github/singr7/MIRAutoencoder/blob/master/Indian_songs_fetch.ipynb\" target=\"_parent\"><img src=\"https://colab.research.google.com/assets/colab-badge.svg\" alt=\"Open In Colab\"/></a>"
      ]
    },
    {
      "cell_type": "code",
      "metadata": {
        "colab": {
          "base_uri": "https://localhost:8080/"
        },
        "id": "7T2qRzWvhF1K",
        "outputId": "6fd42566-972f-4051-9709-06beb5f36004"
      },
      "source": [
        "#!npx degit Jainu-s/urldata/al -f\n",
        "!npx degit indian-music-arch/IndianSongsDataset/data -f"
      ],
      "execution_count": 1,
      "outputs": [
        {
          "output_type": "stream",
          "text": [
            "\u001b[K\u001b[?25hnpx: installed 1 in 2.584s\n",
            "\u001b[36m> destination directory is not empty. Using --force, continuing\u001b[39m\n",
            "\u001b[36m> cloned \u001b[1mindian-music-arch/IndianSongsDataset\u001b[22m#\u001b[1mHEAD\u001b[22m\u001b[39m\n"
          ],
          "name": "stdout"
        }
      ]
    },
    {
      "cell_type": "code",
      "metadata": {
        "id": "0xZNFX8OibM4"
      },
      "source": [
        "import os"
      ],
      "execution_count": 2,
      "outputs": []
    },
    {
      "cell_type": "code",
      "metadata": {
        "colab": {
          "base_uri": "https://localhost:8080/"
        },
        "id": "R2dSW2cT8_8Q",
        "outputId": "2068a0c1-1a45-459e-b7b3-b5882b47ee13"
      },
      "source": [
        "from google.colab import drive\n",
        "drive.mount('/content/drive', force_remount=True)"
      ],
      "execution_count": 3,
      "outputs": [
        {
          "output_type": "stream",
          "text": [
            "Mounted at /content/drive\n"
          ],
          "name": "stdout"
        }
      ]
    },
    {
      "cell_type": "code",
      "metadata": {
        "id": "yJ1TYDMA9i55"
      },
      "source": [
        "#drive.flush_and_unmount()"
      ],
      "execution_count": null,
      "outputs": []
    },
    {
      "cell_type": "code",
      "metadata": {
        "colab": {
          "base_uri": "https://localhost:8080/",
          "height": 35
        },
        "id": "MVlRuRdqig_Q",
        "outputId": "b9ab5203-a2c2-45ff-99ce-189b050f19a4"
      },
      "source": [
        "os.getcwd()"
      ],
      "execution_count": 4,
      "outputs": [
        {
          "output_type": "execute_result",
          "data": {
            "application/vnd.google.colaboratory.intrinsic+json": {
              "type": "string"
            },
            "text/plain": [
              "'/content'"
            ]
          },
          "metadata": {
            "tags": []
          },
          "execution_count": 4
        }
      ]
    },
    {
      "cell_type": "code",
      "metadata": {
        "id": "ZtIsU4c5x4kn"
      },
      "source": [
        ""
      ],
      "execution_count": null,
      "outputs": []
    },
    {
      "cell_type": "code",
      "metadata": {
        "id": "k1ILbvNGxzp9"
      },
      "source": [
        "r = '/content/drive'\n",
        "if 'drive' not in (r) and 'config' not in (r):\n",
        "  print('Not working')"
      ],
      "execution_count": 14,
      "outputs": []
    },
    {
      "cell_type": "code",
      "metadata": {
        "id": "4nsLKkCsioZd"
      },
      "source": [
        "\n",
        "songs = []\n",
        "for root, dirs, files in os.walk(\"/content\"):\n",
        "    \n",
        "    if 'config' not in root and 'sample_data' not in root and 'drive'  not in root :\n",
        "      print(root)\n",
        "      for file in files:\n",
        "        if file.endswith(\".mp3\"):\n",
        "          songs.append(os.path.join(root, file))"
      ],
      "execution_count": null,
      "outputs": []
    },
    {
      "cell_type": "code",
      "metadata": {
        "colab": {
          "base_uri": "https://localhost:8080/"
        },
        "id": "bCCQx8LxjV82",
        "outputId": "406b9329-d4f4-4485-ca0f-2b2e81aac7b1"
      },
      "source": [
        "len(songs)"
      ],
      "execution_count": 16,
      "outputs": [
        {
          "output_type": "execute_result",
          "data": {
            "text/plain": [
              "2271"
            ]
          },
          "metadata": {
            "tags": []
          },
          "execution_count": 16
        }
      ]
    },
    {
      "cell_type": "code",
      "metadata": {
        "id": "eNqdWWHjbTnz"
      },
      "source": [
        "import librosa\n",
        "import librosa.display\n",
        "import scipy.ndimage\n",
        "import numpy as np\n",
        "from pylab import plot, show, figure, imshow\n",
        "%matplotlib inline\n",
        "import matplotlib.pyplot as plt"
      ],
      "execution_count": 17,
      "outputs": []
    },
    {
      "cell_type": "code",
      "metadata": {
        "id": "CIK28YN2BMF0"
      },
      "source": [
        "\n",
        "#from google.colab import drive\n",
        "#drive.mount('/content/drive', force_remount=True)\n",
        "X_logmel_I=[]\n",
        "l_count=0\n",
        "os.chdir(\"/content/drive/My Drive\")\n",
        "for song in songs:\n",
        "  l_count=l_count+1\n",
        "  s= song.split('/')[-1].replace('.mp3','').replace('\\'','')\n",
        "  s_new = ''.join(s.split('(')[0].split()) +'.npy'\n",
        "  if '-' in s_new:\n",
        "    s_new = s_new.split('-')[0]+'.npy'\n",
        "  print(l_count, song.split('/')[-1], s_new)\n",
        "\n",
        "  y,sr = librosa.load(song, duration = 20, sr=16000)\n",
        "  melspectrogram = librosa.feature.melspectrogram(y, sr=16000, n_fft=2048, hop_length=800, n_mels=48)\n",
        "  log_melspectrogram = librosa.power_to_db(melspectrogram, ref=np.max)\n",
        "  log_melspectrogram_new = log_melspectrogram[:, :-1].astype('float32')\n",
        "  log_melspectrogram_arr = np.array(log_melspectrogram_new)\n",
        "  np_file_nm = song.split('/')[-1].replace('.mp3','.npy')\n",
        "  X_logmel_I.append(log_melspectrogram_new)\n",
        "  np.save(\"./MusicResearchColabNB/MelFeatures/Indian_mel_numpy/\"+s_new,log_melspectrogram_arr )\n"
      ],
      "execution_count": null,
      "outputs": []
    },
    {
      "cell_type": "code",
      "metadata": {
        "id": "0MrzY4E4Chjs"
      },
      "source": [
        "s= 'Tare Bholano-Gelo Na (From \"Lal Kuthi\").mp3'\n",
        "new_s= ''.join(s.split('(')[0].split())+'.mp3'\n"
      ],
      "execution_count": null,
      "outputs": []
    },
    {
      "cell_type": "code",
      "metadata": {
        "colab": {
          "base_uri": "https://localhost:8080/",
          "height": 35
        },
        "id": "Vp5-hY_lDduk",
        "outputId": "4c85a9b8-6425-4951-8093-5a99f2a9f921"
      },
      "source": [
        "new_s.replace('.mp3','').replace('-','')"
      ],
      "execution_count": null,
      "outputs": [
        {
          "output_type": "execute_result",
          "data": {
            "application/vnd.google.colaboratory.intrinsic+json": {
              "type": "string"
            },
            "text/plain": [
              "'TareBholanoGeloNa'"
            ]
          },
          "metadata": {
            "tags": []
          },
          "execution_count": 49
        }
      ]
    },
    {
      "cell_type": "code",
      "metadata": {
        "colab": {
          "base_uri": "https://localhost:8080/"
        },
        "id": "cPPLgDHYDuAJ",
        "outputId": "bece47fa-dd1b-4873-d65f-24accf893b7c"
      },
      "source": [
        "import os\n",
        "from google.colab import drive\n",
        "drive.mount('/content/drive', force_remount=True)\n",
        "X_logmel_I=[]\n",
        "l_count=0\n",
        "os.chdir(\"/content/drive/My Drive\")\n"
      ],
      "execution_count": null,
      "outputs": [
        {
          "output_type": "stream",
          "text": [
            "Mounted at /content/drive\n"
          ],
          "name": "stdout"
        }
      ]
    },
    {
      "cell_type": "code",
      "metadata": {
        "id": "CrOdB6Na351c"
      },
      "source": [
        "read_np= np.load('./MusicResearchColabNB/MelFeatures/Indian_mel_numpy/YehNainDareDare.npy')\n",
        "#y=librosa.db_to_power(read_np)\n",
        "z= librosa.feature.inverse.mel_to_audio(read_np, sr=16000, n_fft=2048, hop_length=800)"
      ],
      "execution_count": null,
      "outputs": []
    },
    {
      "cell_type": "code",
      "metadata": {
        "id": "5nZt7Znz5zvY"
      },
      "source": [
        "import IPython\n",
        "IPython.display.Audio(z, rate=16000)"
      ],
      "execution_count": null,
      "outputs": []
    },
    {
      "cell_type": "code",
      "metadata": {
        "id": "o5qHG9fC-mC8"
      },
      "source": [
        "S = librosa.feature.inverse.mel_to_stft(melspectrogram)\n",
        "y = librosa.griffinlim(S)"
      ],
      "execution_count": null,
      "outputs": []
    },
    {
      "cell_type": "code",
      "metadata": {
        "id": "Gks4TvyzCXLK"
      },
      "source": [
        ""
      ],
      "execution_count": null,
      "outputs": []
    }
  ]
}